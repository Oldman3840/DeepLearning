{
 "cells": [
  {
   "cell_type": "code",
   "execution_count": 1,
   "metadata": {},
   "outputs": [],
   "source": [
    "from sklearn.datasets import fetch_california_housing"
   ]
  },
  {
   "cell_type": "code",
   "execution_count": 2,
   "metadata": {},
   "outputs": [],
   "source": [
    "califonia = fetch_california_housing()"
   ]
  },
  {
   "cell_type": "code",
   "execution_count": 14,
   "metadata": {},
   "outputs": [],
   "source": [
    "x = califonia.data\n",
    "y = califonia.target"
   ]
  },
  {
   "attachments": {},
   "cell_type": "markdown",
   "metadata": {},
   "source": [
    "### 조건: Functional API\n",
    "1. training set / validation set / test set 분리 (자율)\n",
    "2. hidden layer 최소 3개 사용! (노드 수 자율)\n",
    "3. early stopping 적용! (patience 7)\n",
    "4. validation_data 옵션에 validation set 적용"
   ]
  },
  {
   "cell_type": "code",
   "execution_count": 12,
   "metadata": {},
   "outputs": [],
   "source": [
    "import tensorflow as tf\n",
    "from tensorflow import keras\n",
    "from tensorflow.keras.callbacks import EarlyStopping\n",
    "\n",
    "import numpy as np\n",
    "import pandas as pd\n",
    "\n",
    "from sklearn.model_selection import train_test_split\n"
   ]
  },
  {
   "cell_type": "code",
   "execution_count": 15,
   "metadata": {},
   "outputs": [
    {
     "data": {
      "text/plain": [
       "((20640, 8), (20640,))"
      ]
     },
     "execution_count": 15,
     "metadata": {},
     "output_type": "execute_result"
    }
   ],
   "source": [
    "x.shape, y.shape"
   ]
  },
  {
   "cell_type": "code",
   "execution_count": 6,
   "metadata": {},
   "outputs": [
    {
     "data": {
      "text/plain": [
       "((12384, 8), (4127, 8), (4128, 8), (12384,), (4127,), (4128,))"
      ]
     },
     "execution_count": 6,
     "metadata": {},
     "output_type": "execute_result"
    }
   ],
   "source": [
    "x_train = x[:int(x.shape[0]*0.6)]\n",
    "x_val = x[x_train.shape[0]+1:int(x.shape[0]*0.8)]\n",
    "x_test = x[x_train.shape[0] + x_val.shape[0]+1:int(x.shape[0])]\n",
    "\n",
    "y_train = y[:int(y.shape[0]*0.6)]\n",
    "y_val = y[y_train.shape[0]+1:int(y.shape[0]*0.8)]\n",
    "y_test = y[y_train.shape[0] + y_val.shape[0]+1:int(y.shape[0])]\n",
    "\n",
    "x_train.shape, x_val.shape, x_test.shape, y_train.shape, y_val.shape, y_test.shape"
   ]
  },
  {
   "cell_type": "code",
   "execution_count": 16,
   "metadata": {},
   "outputs": [
    {
     "data": {
      "text/plain": [
       "((13209, 8), (3303, 8), (4128, 8), (13209,), (3303,), (4128,))"
      ]
     },
     "execution_count": 16,
     "metadata": {},
     "output_type": "execute_result"
    }
   ],
   "source": [
    "x_train, x_test, y_train, y_test = train_test_split(x, y, test_size = 0.2, random_state = 2023)\n",
    "x_train, x_val, y_train, y_val = train_test_split(x_train, y_train, test_size = 0.2, random_state = 2023)\n",
    "\n",
    "x_train.shape, x_val.shape, x_test.shape, y_train.shape, y_val.shape, y_test.shape"
   ]
  },
  {
   "cell_type": "code",
   "execution_count": 17,
   "metadata": {},
   "outputs": [
    {
     "name": "stdout",
     "output_type": "stream",
     "text": [
      "Model: \"model\"\n",
      "_________________________________________________________________\n",
      " Layer (type)                Output Shape              Param #   \n",
      "=================================================================\n",
      " input_1 (InputLayer)        [(None, 8)]               0         \n",
      "                                                                 \n",
      " dense (Dense)               (None, 512)               4608      \n",
      "                                                                 \n",
      " dense_1 (Dense)             (None, 256)               131328    \n",
      "                                                                 \n",
      " dense_2 (Dense)             (None, 128)               32896     \n",
      "                                                                 \n",
      " dense_3 (Dense)             (None, 1)                 129       \n",
      "                                                                 \n",
      "=================================================================\n",
      "Total params: 168,961\n",
      "Trainable params: 168,961\n",
      "Non-trainable params: 0\n",
      "_________________________________________________________________\n"
     ]
    }
   ],
   "source": [
    "# 모델링: Functional API\n",
    "\n",
    "# 1. 세션 클리어\n",
    "keras.backend.clear_session()\n",
    "\n",
    "# 2. 레이어 사슬처럼 엮기\n",
    "il = keras.layers.Input(shape = (8, ))\n",
    "hl1 = keras.layers.Dense(512, activation = 'relu')(il)\n",
    "hl2 = keras.layers.Dense(256, activation = 'relu')(hl1)\n",
    "hl3 = keras.layers.Dense(128, activation = 'relu')(hl2)\n",
    "ol = keras.layers.Dense(1, activation = 'linear')(hl3)\n",
    "\n",
    "# 3. 모델의 시작/끝 지정\n",
    "model = keras.models.Model(il, ol)\n",
    "\n",
    "# 4. 컴파일\n",
    "model.compile(loss = 'mse', optimizer= 'adam')\n",
    "\n",
    "# 요약\n",
    "model.summary()\n"
   ]
  },
  {
   "cell_type": "code",
   "execution_count": 18,
   "metadata": {},
   "outputs": [],
   "source": [
    "es = EarlyStopping(monitor = 'val_loss',\n",
    "                   min_delta = 0,\n",
    "                   patience = 7,\n",
    "                   verbose = 1,\n",
    "                   restore_best_weights= True)"
   ]
  },
  {
   "cell_type": "code",
   "execution_count": 19,
   "metadata": {},
   "outputs": [
    {
     "name": "stdout",
     "output_type": "stream",
     "text": [
      "Epoch 1/50\n",
      "413/413 [==============================] - 2s 3ms/step - loss: 201.7384 - val_loss: 8.6592\n",
      "Epoch 2/50\n",
      "413/413 [==============================] - 2s 4ms/step - loss: 25.2763 - val_loss: 1.2927\n",
      "Epoch 3/50\n",
      "413/413 [==============================] - 2s 4ms/step - loss: 4.7960 - val_loss: 1.4618\n",
      "Epoch 4/50\n",
      "413/413 [==============================] - 2s 4ms/step - loss: 13.3724 - val_loss: 2.3366\n",
      "Epoch 5/50\n",
      "413/413 [==============================] - 2s 4ms/step - loss: 5.1843 - val_loss: 123.1943\n",
      "Epoch 6/50\n",
      "413/413 [==============================] - 2s 4ms/step - loss: 5.7640 - val_loss: 0.7135\n",
      "Epoch 7/50\n",
      "413/413 [==============================] - 2s 4ms/step - loss: 1.1546 - val_loss: 0.7747\n",
      "Epoch 8/50\n",
      "413/413 [==============================] - 2s 4ms/step - loss: 3.8348 - val_loss: 0.7747\n",
      "Epoch 9/50\n",
      "413/413 [==============================] - 2s 4ms/step - loss: 2.9887 - val_loss: 1.2695\n",
      "Epoch 10/50\n",
      "413/413 [==============================] - 2s 4ms/step - loss: 2.1972 - val_loss: 0.9218\n",
      "Epoch 11/50\n",
      "413/413 [==============================] - 2s 4ms/step - loss: 0.8818 - val_loss: 0.6271\n",
      "Epoch 12/50\n",
      "413/413 [==============================] - 2s 4ms/step - loss: 0.7384 - val_loss: 0.6326\n",
      "Epoch 13/50\n",
      "413/413 [==============================] - 2s 4ms/step - loss: 0.8375 - val_loss: 0.6459\n",
      "Epoch 14/50\n",
      "413/413 [==============================] - 2s 4ms/step - loss: 0.9742 - val_loss: 0.6500\n",
      "Epoch 15/50\n",
      "413/413 [==============================] - 2s 4ms/step - loss: 0.8833 - val_loss: 0.6404\n",
      "Epoch 16/50\n",
      "413/413 [==============================] - 2s 4ms/step - loss: 0.8356 - val_loss: 0.9526\n",
      "Epoch 17/50\n",
      "413/413 [==============================] - 2s 4ms/step - loss: 0.7494 - val_loss: 0.6747\n",
      "Epoch 18/50\n",
      "399/413 [===========================>..] - ETA: 0s - loss: 0.7053Restoring model weights from the end of the best epoch: 11.\n",
      "413/413 [==============================] - 2s 4ms/step - loss: 0.7012 - val_loss: 0.7489\n",
      "Epoch 18: early stopping\n"
     ]
    },
    {
     "data": {
      "text/plain": [
       "<keras.callbacks.History at 0x224e2c16800>"
      ]
     },
     "execution_count": 19,
     "metadata": {},
     "output_type": "execute_result"
    }
   ],
   "source": [
    "model.fit(x_train, y_train,\n",
    "          epochs = 50,\n",
    "          verbose = 1,\n",
    "          callbacks = [es],\n",
    "          validation_data = (x_val, y_val),)"
   ]
  },
  {
   "cell_type": "code",
   "execution_count": 20,
   "metadata": {},
   "outputs": [
    {
     "name": "stdout",
     "output_type": "stream",
     "text": [
      "[3.656 2.01  2.132 ... 0.928 0.904 2.13 ]\n",
      "129/129 [==============================] - 0s 2ms/step\n",
      "[1.6830863  2.2340422  1.6341113  ... 1.8874787  0.95810497 2.3302965 ]\n"
     ]
    }
   ],
   "source": [
    "print(y_test)\n",
    "y_pred = model.predict(x_test).reshape(-1,)\n",
    "print(y_pred)"
   ]
  },
  {
   "cell_type": "code",
   "execution_count": 21,
   "metadata": {},
   "outputs": [
    {
     "data": {
      "text/plain": [
       "0.6439980184593768"
      ]
     },
     "execution_count": 21,
     "metadata": {},
     "output_type": "execute_result"
    }
   ],
   "source": [
    "from sklearn.metrics import mean_squared_error\n",
    "\n",
    "mean_squared_error(y_test, y_pred)"
   ]
  },
  {
   "cell_type": "code",
   "execution_count": null,
   "metadata": {},
   "outputs": [],
   "source": []
  }
 ],
 "metadata": {
  "kernelspec": {
   "display_name": "ex_data",
   "language": "python",
   "name": "ex_data"
  },
  "language_info": {
   "codemirror_mode": {
    "name": "ipython",
    "version": 3
   },
   "file_extension": ".py",
   "mimetype": "text/x-python",
   "name": "python",
   "nbconvert_exporter": "python",
   "pygments_lexer": "ipython3",
   "version": "3.10.9"
  },
  "orig_nbformat": 4
 },
 "nbformat": 4,
 "nbformat_minor": 2
}
