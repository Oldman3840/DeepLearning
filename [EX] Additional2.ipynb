{
 "cells": [
  {
   "cell_type": "code",
   "execution_count": 1,
   "metadata": {},
   "outputs": [],
   "source": [
    "from sklearn.datasets import load_wine"
   ]
  },
  {
   "cell_type": "code",
   "execution_count": 2,
   "metadata": {},
   "outputs": [],
   "source": [
    "wine = load_wine()"
   ]
  },
  {
   "cell_type": "code",
   "execution_count": 27,
   "metadata": {},
   "outputs": [],
   "source": [
    "x = wine.data\n",
    "y = wine.target"
   ]
  },
  {
   "cell_type": "code",
   "execution_count": 28,
   "metadata": {},
   "outputs": [
    {
     "data": {
      "text/plain": [
       "((178, 13), (178,))"
      ]
     },
     "execution_count": 28,
     "metadata": {},
     "output_type": "execute_result"
    }
   ],
   "source": [
    "x.shape, y.shape"
   ]
  },
  {
   "cell_type": "code",
   "execution_count": 29,
   "metadata": {},
   "outputs": [
    {
     "name": "stdout",
     "output_type": "stream",
     "text": [
      ".. _wine_dataset:\n",
      "\n",
      "Wine recognition dataset\n",
      "------------------------\n",
      "\n",
      "**Data Set Characteristics:**\n",
      "\n",
      "    :Number of Instances: 178\n",
      "    :Number of Attributes: 13 numeric, predictive attributes and the class\n",
      "    :Attribute Information:\n",
      " \t\t- Alcohol\n",
      " \t\t- Malic acid\n",
      " \t\t- Ash\n",
      "\t\t- Alcalinity of ash  \n",
      " \t\t- Magnesium\n",
      "\t\t- Total phenols\n",
      " \t\t- Flavanoids\n",
      " \t\t- Nonflavanoid phenols\n",
      " \t\t- Proanthocyanins\n",
      "\t\t- Color intensity\n",
      " \t\t- Hue\n",
      " \t\t- OD280/OD315 of diluted wines\n",
      " \t\t- Proline\n",
      "\n",
      "    - class:\n",
      "            - class_0\n",
      "            - class_1\n",
      "            - class_2\n",
      "\t\t\n",
      "    :Summary Statistics:\n",
      "    \n",
      "    ============================= ==== ===== ======= =====\n",
      "                                   Min   Max   Mean     SD\n",
      "    ============================= ==== ===== ======= =====\n",
      "    Alcohol:                      11.0  14.8    13.0   0.8\n",
      "    Malic Acid:                   0.74  5.80    2.34  1.12\n",
      "    Ash:                          1.36  3.23    2.36  0.27\n",
      "    Alcalinity of Ash:            10.6  30.0    19.5   3.3\n",
      "    Magnesium:                    70.0 162.0    99.7  14.3\n",
      "    Total Phenols:                0.98  3.88    2.29  0.63\n",
      "    Flavanoids:                   0.34  5.08    2.03  1.00\n",
      "    Nonflavanoid Phenols:         0.13  0.66    0.36  0.12\n",
      "    Proanthocyanins:              0.41  3.58    1.59  0.57\n",
      "    Colour Intensity:              1.3  13.0     5.1   2.3\n",
      "    Hue:                          0.48  1.71    0.96  0.23\n",
      "    OD280/OD315 of diluted wines: 1.27  4.00    2.61  0.71\n",
      "    Proline:                       278  1680     746   315\n",
      "    ============================= ==== ===== ======= =====\n",
      "\n",
      "    :Missing Attribute Values: None\n",
      "    :Class Distribution: class_0 (59), class_1 (71), class_2 (48)\n",
      "    :Creator: R.A. Fisher\n",
      "    :Donor: Michael Marshall (MARSHALL%PLU@io.arc.nasa.gov)\n",
      "    :Date: July, 1988\n",
      "\n",
      "This is a copy of UCI ML Wine recognition datasets.\n",
      "https://archive.ics.uci.edu/ml/machine-learning-databases/wine/wine.data\n",
      "\n",
      "The data is the results of a chemical analysis of wines grown in the same\n",
      "region in Italy by three different cultivators. There are thirteen different\n",
      "measurements taken for different constituents found in the three types of\n",
      "wine.\n",
      "\n",
      "Original Owners: \n",
      "\n",
      "Forina, M. et al, PARVUS - \n",
      "An Extendible Package for Data Exploration, Classification and Correlation. \n",
      "Institute of Pharmaceutical and Food Analysis and Technologies,\n",
      "Via Brigata Salerno, 16147 Genoa, Italy.\n",
      "\n",
      "Citation:\n",
      "\n",
      "Lichman, M. (2013). UCI Machine Learning Repository\n",
      "[https://archive.ics.uci.edu/ml]. Irvine, CA: University of California,\n",
      "School of Information and Computer Science. \n",
      "\n",
      ".. topic:: References\n",
      "\n",
      "  (1) S. Aeberhard, D. Coomans and O. de Vel, \n",
      "  Comparison of Classifiers in High Dimensional Settings, \n",
      "  Tech. Rep. no. 92-02, (1992), Dept. of Computer Science and Dept. of  \n",
      "  Mathematics and Statistics, James Cook University of North Queensland. \n",
      "  (Also submitted to Technometrics). \n",
      "\n",
      "  The data was used with many others for comparing various \n",
      "  classifiers. The classes are separable, though only RDA \n",
      "  has achieved 100% correct classification. \n",
      "  (RDA : 100%, QDA 99.4%, LDA 98.9%, 1NN 96.1% (z-transformed data)) \n",
      "  (All results using the leave-one-out technique) \n",
      "\n",
      "  (2) S. Aeberhard, D. Coomans and O. de Vel, \n",
      "  \"THE CLASSIFICATION PERFORMANCE OF RDA\" \n",
      "  Tech. Rep. no. 92-01, (1992), Dept. of Computer Science and Dept. of \n",
      "  Mathematics and Statistics, James Cook University of North Queensland. \n",
      "  (Also submitted to Journal of Chemometrics).\n",
      "\n"
     ]
    }
   ],
   "source": [
    "print(wine.DESCR)"
   ]
  },
  {
   "attachments": {},
   "cell_type": "markdown",
   "metadata": {},
   "source": [
    "### 조건:  Functional API\n",
    "1. training set / test set / validation set 구분하기!\n",
    "2. scaling(min_max, standardization 둘 중!)\n",
    "3. y에 대한 전처리\n",
    "4. 히든 레이더 최소 2개 쓰기 (노드와 엑티베이션 자유!)\n",
    "5. early stopping, validation_data"
   ]
  },
  {
   "cell_type": "code",
   "execution_count": 30,
   "metadata": {},
   "outputs": [],
   "source": [
    "import tensorflow as tf\n",
    "from tensorflow import keras\n",
    "\n",
    "from sklearn.model_selection import train_test_split"
   ]
  },
  {
   "cell_type": "code",
   "execution_count": 31,
   "metadata": {},
   "outputs": [],
   "source": [
    "x_train, x_test, y_train, y_test = train_test_split(x, y, test_size = 0.1, random_state= 2023)\n",
    "x_train, x_val, y_train, y_val = train_test_split(x_train, y_train, test_size = 0.1, random_state = 2023)"
   ]
  },
  {
   "cell_type": "code",
   "execution_count": 32,
   "metadata": {},
   "outputs": [
    {
     "data": {
      "text/plain": [
       "((144, 13), (16, 13), (18, 13), (144,), (16,), (18,))"
      ]
     },
     "execution_count": 32,
     "metadata": {},
     "output_type": "execute_result"
    }
   ],
   "source": [
    "x_train.shape, x_val.shape, x_test.shape, y_train.shape, y_val.shape, y_test.shape"
   ]
  },
  {
   "cell_type": "code",
   "execution_count": 33,
   "metadata": {},
   "outputs": [],
   "source": [
    "from sklearn.preprocessing import MinMaxScaler, StandardScaler\n",
    "\n",
    "scaler_m, scaler_s = MinMaxScaler(), StandardScaler()\n"
   ]
  },
  {
   "cell_type": "code",
   "execution_count": null,
   "metadata": {},
   "outputs": [],
   "source": [
    "scaler.fit(x_train)\n",
    "\n",
    "x_train = scaler.transform(x_train)\n",
    "x_val = scaler.transform(x_val)\n",
    "x_test = scaler.transform(x_test)"
   ]
  },
  {
   "cell_type": "code",
   "execution_count": 34,
   "metadata": {},
   "outputs": [],
   "source": [
    "import pandas as pd"
   ]
  },
  {
   "cell_type": "code",
   "execution_count": 35,
   "metadata": {},
   "outputs": [
    {
     "data": {
      "text/html": [
       "<div>\n",
       "<style scoped>\n",
       "    .dataframe tbody tr th:only-of-type {\n",
       "        vertical-align: middle;\n",
       "    }\n",
       "\n",
       "    .dataframe tbody tr th {\n",
       "        vertical-align: top;\n",
       "    }\n",
       "\n",
       "    .dataframe thead th {\n",
       "        text-align: right;\n",
       "    }\n",
       "</style>\n",
       "<table border=\"1\" class=\"dataframe\">\n",
       "  <thead>\n",
       "    <tr style=\"text-align: right;\">\n",
       "      <th></th>\n",
       "      <th>alcohol</th>\n",
       "      <th>malic_acid</th>\n",
       "      <th>ash</th>\n",
       "      <th>alcalinity_of_ash</th>\n",
       "      <th>magnesium</th>\n",
       "      <th>total_phenols</th>\n",
       "      <th>flavanoids</th>\n",
       "      <th>nonflavanoid_phenols</th>\n",
       "      <th>proanthocyanins</th>\n",
       "      <th>color_intensity</th>\n",
       "      <th>hue</th>\n",
       "      <th>od280/od315_of_diluted_wines</th>\n",
       "      <th>proline</th>\n",
       "    </tr>\n",
       "  </thead>\n",
       "  <tbody>\n",
       "    <tr>\n",
       "      <th>count</th>\n",
       "      <td>144.000000</td>\n",
       "      <td>144.000000</td>\n",
       "      <td>144.000000</td>\n",
       "      <td>144.000000</td>\n",
       "      <td>144.000000</td>\n",
       "      <td>144.000000</td>\n",
       "      <td>144.000000</td>\n",
       "      <td>144.000000</td>\n",
       "      <td>144.000000</td>\n",
       "      <td>144.000000</td>\n",
       "      <td>144.000000</td>\n",
       "      <td>144.000000</td>\n",
       "      <td>144.000000</td>\n",
       "    </tr>\n",
       "    <tr>\n",
       "      <th>mean</th>\n",
       "      <td>0.476599</td>\n",
       "      <td>0.293873</td>\n",
       "      <td>0.439542</td>\n",
       "      <td>0.434176</td>\n",
       "      <td>0.369170</td>\n",
       "      <td>0.467864</td>\n",
       "      <td>0.371469</td>\n",
       "      <td>0.426887</td>\n",
       "      <td>0.373861</td>\n",
       "      <td>0.289860</td>\n",
       "      <td>0.492669</td>\n",
       "      <td>0.516153</td>\n",
       "      <td>0.335442</td>\n",
       "    </tr>\n",
       "    <tr>\n",
       "      <th>std</th>\n",
       "      <td>0.241979</td>\n",
       "      <td>0.225709</td>\n",
       "      <td>0.175955</td>\n",
       "      <td>0.177628</td>\n",
       "      <td>0.167823</td>\n",
       "      <td>0.220203</td>\n",
       "      <td>0.209416</td>\n",
       "      <td>0.230316</td>\n",
       "      <td>0.173968</td>\n",
       "      <td>0.204613</td>\n",
       "      <td>0.234913</td>\n",
       "      <td>0.262204</td>\n",
       "      <td>0.231661</td>\n",
       "    </tr>\n",
       "    <tr>\n",
       "      <th>min</th>\n",
       "      <td>0.000000</td>\n",
       "      <td>0.000000</td>\n",
       "      <td>0.000000</td>\n",
       "      <td>0.000000</td>\n",
       "      <td>0.000000</td>\n",
       "      <td>0.000000</td>\n",
       "      <td>0.000000</td>\n",
       "      <td>0.000000</td>\n",
       "      <td>0.000000</td>\n",
       "      <td>0.000000</td>\n",
       "      <td>0.000000</td>\n",
       "      <td>0.000000</td>\n",
       "      <td>0.000000</td>\n",
       "    </tr>\n",
       "    <tr>\n",
       "      <th>25%</th>\n",
       "      <td>0.274242</td>\n",
       "      <td>0.146640</td>\n",
       "      <td>0.344771</td>\n",
       "      <td>0.305851</td>\n",
       "      <td>0.234568</td>\n",
       "      <td>0.273276</td>\n",
       "      <td>0.196730</td>\n",
       "      <td>0.245283</td>\n",
       "      <td>0.267350</td>\n",
       "      <td>0.133215</td>\n",
       "      <td>0.306701</td>\n",
       "      <td>0.288462</td>\n",
       "      <td>0.151079</td>\n",
       "    </tr>\n",
       "    <tr>\n",
       "      <th>50%</th>\n",
       "      <td>0.484848</td>\n",
       "      <td>0.194501</td>\n",
       "      <td>0.431373</td>\n",
       "      <td>0.414894</td>\n",
       "      <td>0.345679</td>\n",
       "      <td>0.494828</td>\n",
       "      <td>0.401899</td>\n",
       "      <td>0.396226</td>\n",
       "      <td>0.362776</td>\n",
       "      <td>0.249556</td>\n",
       "      <td>0.494845</td>\n",
       "      <td>0.576923</td>\n",
       "      <td>0.279856</td>\n",
       "    </tr>\n",
       "    <tr>\n",
       "      <th>75%</th>\n",
       "      <td>0.680303</td>\n",
       "      <td>0.429735</td>\n",
       "      <td>0.550654</td>\n",
       "      <td>0.521277</td>\n",
       "      <td>0.459877</td>\n",
       "      <td>0.644828</td>\n",
       "      <td>0.538502</td>\n",
       "      <td>0.566038</td>\n",
       "      <td>0.485804</td>\n",
       "      <td>0.380551</td>\n",
       "      <td>0.662371</td>\n",
       "      <td>0.717949</td>\n",
       "      <td>0.500899</td>\n",
       "    </tr>\n",
       "    <tr>\n",
       "      <th>max</th>\n",
       "      <td>1.000000</td>\n",
       "      <td>1.000000</td>\n",
       "      <td>1.000000</td>\n",
       "      <td>1.000000</td>\n",
       "      <td>1.000000</td>\n",
       "      <td>1.000000</td>\n",
       "      <td>1.000000</td>\n",
       "      <td>1.000000</td>\n",
       "      <td>1.000000</td>\n",
       "      <td>1.000000</td>\n",
       "      <td>1.000000</td>\n",
       "      <td>1.000000</td>\n",
       "      <td>1.000000</td>\n",
       "    </tr>\n",
       "  </tbody>\n",
       "</table>\n",
       "</div>"
      ],
      "text/plain": [
       "          alcohol  malic_acid  ...  od280/od315_of_diluted_wines     proline\n",
       "count  144.000000  144.000000  ...                    144.000000  144.000000\n",
       "mean     0.476599    0.293873  ...                      0.516153    0.335442\n",
       "std      0.241979    0.225709  ...                      0.262204    0.231661\n",
       "min      0.000000    0.000000  ...                      0.000000    0.000000\n",
       "25%      0.274242    0.146640  ...                      0.288462    0.151079\n",
       "50%      0.484848    0.194501  ...                      0.576923    0.279856\n",
       "75%      0.680303    0.429735  ...                      0.717949    0.500899\n",
       "max      1.000000    1.000000  ...                      1.000000    1.000000\n",
       "\n",
       "[8 rows x 13 columns]"
      ]
     },
     "execution_count": 35,
     "metadata": {},
     "output_type": "execute_result"
    }
   ],
   "source": [
    "x_train_m = scaler_m.fit_transform(x_train)\n",
    "pd.DataFrame(x_train_m, columns = wine.feature_names).describe()"
   ]
  },
  {
   "cell_type": "code",
   "execution_count": 36,
   "metadata": {},
   "outputs": [
    {
     "data": {
      "text/html": [
       "<div>\n",
       "<style scoped>\n",
       "    .dataframe tbody tr th:only-of-type {\n",
       "        vertical-align: middle;\n",
       "    }\n",
       "\n",
       "    .dataframe tbody tr th {\n",
       "        vertical-align: top;\n",
       "    }\n",
       "\n",
       "    .dataframe thead th {\n",
       "        text-align: right;\n",
       "    }\n",
       "</style>\n",
       "<table border=\"1\" class=\"dataframe\">\n",
       "  <thead>\n",
       "    <tr style=\"text-align: right;\">\n",
       "      <th></th>\n",
       "      <th>alcohol</th>\n",
       "      <th>malic_acid</th>\n",
       "      <th>ash</th>\n",
       "      <th>alcalinity_of_ash</th>\n",
       "      <th>magnesium</th>\n",
       "      <th>total_phenols</th>\n",
       "      <th>flavanoids</th>\n",
       "      <th>nonflavanoid_phenols</th>\n",
       "      <th>proanthocyanins</th>\n",
       "      <th>color_intensity</th>\n",
       "      <th>hue</th>\n",
       "      <th>od280/od315_of_diluted_wines</th>\n",
       "      <th>proline</th>\n",
       "    </tr>\n",
       "  </thead>\n",
       "  <tbody>\n",
       "    <tr>\n",
       "      <th>count</th>\n",
       "      <td>1.440000e+02</td>\n",
       "      <td>1.440000e+02</td>\n",
       "      <td>1.440000e+02</td>\n",
       "      <td>1.440000e+02</td>\n",
       "      <td>1.440000e+02</td>\n",
       "      <td>1.440000e+02</td>\n",
       "      <td>1.440000e+02</td>\n",
       "      <td>1.440000e+02</td>\n",
       "      <td>1.440000e+02</td>\n",
       "      <td>1.440000e+02</td>\n",
       "      <td>1.440000e+02</td>\n",
       "      <td>1.440000e+02</td>\n",
       "      <td>1.440000e+02</td>\n",
       "    </tr>\n",
       "    <tr>\n",
       "      <th>mean</th>\n",
       "      <td>2.146431e-15</td>\n",
       "      <td>3.022274e-16</td>\n",
       "      <td>1.406282e-15</td>\n",
       "      <td>-1.881211e-16</td>\n",
       "      <td>4.749287e-16</td>\n",
       "      <td>-1.094803e-15</td>\n",
       "      <td>2.467162e-17</td>\n",
       "      <td>-8.018277e-17</td>\n",
       "      <td>8.264994e-16</td>\n",
       "      <td>8.465451e-16</td>\n",
       "      <td>-1.005369e-15</td>\n",
       "      <td>-9.806970e-16</td>\n",
       "      <td>-7.401487e-17</td>\n",
       "    </tr>\n",
       "    <tr>\n",
       "      <th>std</th>\n",
       "      <td>1.003490e+00</td>\n",
       "      <td>1.003490e+00</td>\n",
       "      <td>1.003490e+00</td>\n",
       "      <td>1.003490e+00</td>\n",
       "      <td>1.003490e+00</td>\n",
       "      <td>1.003490e+00</td>\n",
       "      <td>1.003490e+00</td>\n",
       "      <td>1.003490e+00</td>\n",
       "      <td>1.003490e+00</td>\n",
       "      <td>1.003490e+00</td>\n",
       "      <td>1.003490e+00</td>\n",
       "      <td>1.003490e+00</td>\n",
       "      <td>1.003490e+00</td>\n",
       "    </tr>\n",
       "    <tr>\n",
       "      <th>min</th>\n",
       "      <td>-1.976465e+00</td>\n",
       "      <td>-1.306545e+00</td>\n",
       "      <td>-2.506755e+00</td>\n",
       "      <td>-2.452833e+00</td>\n",
       "      <td>-2.207437e+00</td>\n",
       "      <td>-2.132107e+00</td>\n",
       "      <td>-1.780024e+00</td>\n",
       "      <td>-1.859949e+00</td>\n",
       "      <td>-2.156522e+00</td>\n",
       "      <td>-1.421566e+00</td>\n",
       "      <td>-2.104557e+00</td>\n",
       "      <td>-1.975384e+00</td>\n",
       "      <td>-1.453037e+00</td>\n",
       "    </tr>\n",
       "    <tr>\n",
       "      <th>25%</th>\n",
       "      <td>-8.391772e-01</td>\n",
       "      <td>-6.545931e-01</td>\n",
       "      <td>-5.404900e-01</td>\n",
       "      <td>-7.249568e-01</td>\n",
       "      <td>-8.048480e-01</td>\n",
       "      <td>-8.867592e-01</td>\n",
       "      <td>-8.373240e-01</td>\n",
       "      <td>-7.912490e-01</td>\n",
       "      <td>-6.143799e-01</td>\n",
       "      <td>-7.682367e-01</td>\n",
       "      <td>-7.944079e-01</td>\n",
       "      <td>-8.714040e-01</td>\n",
       "      <td>-7.986053e-01</td>\n",
       "    </tr>\n",
       "    <tr>\n",
       "      <th>50%</th>\n",
       "      <td>3.420939e-02</td>\n",
       "      <td>-4.418032e-01</td>\n",
       "      <td>-4.659396e-02</td>\n",
       "      <td>-1.089313e-01</td>\n",
       "      <td>-1.404639e-01</td>\n",
       "      <td>1.228761e-01</td>\n",
       "      <td>1.458139e-01</td>\n",
       "      <td>-1.335875e-01</td>\n",
       "      <td>-6.393999e-02</td>\n",
       "      <td>-1.976624e-01</td>\n",
       "      <td>9.297043e-03</td>\n",
       "      <td>2.325756e-01</td>\n",
       "      <td>-2.407805e-01</td>\n",
       "    </tr>\n",
       "    <tr>\n",
       "      <th>75%</th>\n",
       "      <td>8.447624e-01</td>\n",
       "      <td>6.040366e-01</td>\n",
       "      <td>6.336779e-01</td>\n",
       "      <td>4.920691e-01</td>\n",
       "      <td>5.423753e-01</td>\n",
       "      <td>8.064423e-01</td>\n",
       "      <td>8.003966e-01</td>\n",
       "      <td>6.062817e-01</td>\n",
       "      <td>6.457181e-01</td>\n",
       "      <td>4.447782e-01</td>\n",
       "      <td>7.249247e-01</td>\n",
       "      <td>7.722990e-01</td>\n",
       "      <td>7.167148e-01</td>\n",
       "    </tr>\n",
       "    <tr>\n",
       "      <th>max</th>\n",
       "      <td>2.170551e+00</td>\n",
       "      <td>3.139406e+00</td>\n",
       "      <td>3.196346e+00</td>\n",
       "      <td>3.196571e+00</td>\n",
       "      <td>3.772020e+00</td>\n",
       "      <td>2.425002e+00</td>\n",
       "      <td>3.011825e+00</td>\n",
       "      <td>2.497059e+00</td>\n",
       "      <td>3.611725e+00</td>\n",
       "      <td>3.482760e+00</td>\n",
       "      <td>2.167190e+00</td>\n",
       "      <td>1.851746e+00</td>\n",
       "      <td>2.878676e+00</td>\n",
       "    </tr>\n",
       "  </tbody>\n",
       "</table>\n",
       "</div>"
      ],
      "text/plain": [
       "            alcohol    malic_acid  ...  od280/od315_of_diluted_wines       proline\n",
       "count  1.440000e+02  1.440000e+02  ...                  1.440000e+02  1.440000e+02\n",
       "mean   2.146431e-15  3.022274e-16  ...                 -9.806970e-16 -7.401487e-17\n",
       "std    1.003490e+00  1.003490e+00  ...                  1.003490e+00  1.003490e+00\n",
       "min   -1.976465e+00 -1.306545e+00  ...                 -1.975384e+00 -1.453037e+00\n",
       "25%   -8.391772e-01 -6.545931e-01  ...                 -8.714040e-01 -7.986053e-01\n",
       "50%    3.420939e-02 -4.418032e-01  ...                  2.325756e-01 -2.407805e-01\n",
       "75%    8.447624e-01  6.040366e-01  ...                  7.722990e-01  7.167148e-01\n",
       "max    2.170551e+00  3.139406e+00  ...                  1.851746e+00  2.878676e+00\n",
       "\n",
       "[8 rows x 13 columns]"
      ]
     },
     "execution_count": 36,
     "metadata": {},
     "output_type": "execute_result"
    }
   ],
   "source": [
    "x_train_s = scaler_s.fit_transform(x_train)\n",
    "pd.DataFrame(x_train_s, columns = wine.feature_names).describe()"
   ]
  },
  {
   "cell_type": "code",
   "execution_count": 37,
   "metadata": {},
   "outputs": [],
   "source": [
    "x_val_s = scaler_s.transform(x_val)\n",
    "x_test_s = scaler_s.transform(x_test)"
   ]
  },
  {
   "cell_type": "code",
   "execution_count": 38,
   "metadata": {},
   "outputs": [
    {
     "data": {
      "text/plain": [
       "(0.13, 1680.0, 0.2, 1120.0, 0.14, 1285.0)"
      ]
     },
     "execution_count": 38,
     "metadata": {},
     "output_type": "execute_result"
    }
   ],
   "source": [
    "x_train.min(), x_train.max(), x_val.min(), x_val.max(), x_test.min(), x_test.max()"
   ]
  },
  {
   "cell_type": "code",
   "execution_count": 39,
   "metadata": {},
   "outputs": [],
   "source": [
    "# column별로 min, max 값이 다르기 때문에 column 별로 스케일링이 필요하다.\n",
    "# max_num = x_train.max()\n",
    "# min_num = x_train.min()\n",
    "\n",
    "# x_train = (x_train + min_num) / (max_num + min_num)\n",
    "# x_val = (x_val + min_num) / (max_num + min_num)\n",
    "# x_test = (x_test + min_num) / (max_num + min_num)"
   ]
  },
  {
   "cell_type": "code",
   "execution_count": 40,
   "metadata": {},
   "outputs": [],
   "source": [
    "# x_train.min(), x_train.max(), x_val.min(), x_val.max(), x_test.min(), x_test.max()"
   ]
  },
  {
   "cell_type": "code",
   "execution_count": 41,
   "metadata": {},
   "outputs": [
    {
     "data": {
      "text/plain": [
       "''"
      ]
     },
     "execution_count": 41,
     "metadata": {},
     "output_type": "execute_result"
    }
   ],
   "source": [
    "from tensorflow.keras.utils import to_categorical"
   ]
  },
  {
   "cell_type": "code",
   "execution_count": 42,
   "metadata": {},
   "outputs": [],
   "source": [
    "len_y = len(set(y_train))\n",
    "\n",
    "y_train = to_categorical(y_train, len_y)\n",
    "y_val = to_categorical(y_val, len_y)\n",
    "y_test = to_categorical(y_test, len_y)"
   ]
  },
  {
   "cell_type": "code",
   "execution_count": 52,
   "metadata": {},
   "outputs": [],
   "source": [
    "from tensorflow.keras.callbacks import EarlyStopping"
   ]
  },
  {
   "cell_type": "code",
   "execution_count": 53,
   "metadata": {},
   "outputs": [],
   "source": [
    "es = EarlyStopping(monitor = 'val_loss',            # 관측대상\n",
    "                   min_delta = 0,                   # 임계값\n",
    "                   patience = 5,                    # 관측 대상의 성능 개선이 발생하지 않을 때, 얼마나 더 지켜볼 것인지\n",
    "                   verbose = 1,\n",
    "                   restore_best_weights= True)      # 최적의 epochs 가중치로 적용"
   ]
  },
  {
   "cell_type": "code",
   "execution_count": 54,
   "metadata": {},
   "outputs": [
    {
     "data": {
      "text/plain": [
       "((144, 13), (16, 13), (18, 13), (144, 3), (16, 3), (18, 3))"
      ]
     },
     "execution_count": 54,
     "metadata": {},
     "output_type": "execute_result"
    }
   ],
   "source": [
    "x_train.shape, x_val.shape, x_test.shape, y_train.shape, y_val.shape, y_test.shape"
   ]
  },
  {
   "cell_type": "code",
   "execution_count": 60,
   "metadata": {},
   "outputs": [
    {
     "name": "stdout",
     "output_type": "stream",
     "text": [
      "Model: \"model\"\n",
      "_________________________________________________________________\n",
      " Layer (type)                Output Shape              Param #   \n",
      "=================================================================\n",
      " input_1 (InputLayer)        [(None, 13)]              0         \n",
      "                                                                 \n",
      " hidden1 (Dense)             (None, 64)                896       \n",
      "                                                                 \n",
      " hidden2 (Dense)             (None, 32)                2080      \n",
      "                                                                 \n",
      " output (Dense)              (None, 3)                 99        \n",
      "                                                                 \n",
      "=================================================================\n",
      "Total params: 3,075\n",
      "Trainable params: 3,075\n",
      "Non-trainable params: 0\n",
      "_________________________________________________________________\n"
     ]
    }
   ],
   "source": [
    "# 1. 세션 클리어\n",
    "keras.backend.clear_session()\n",
    "\n",
    "# 2. 모델 사슬처럼 엮기\n",
    "il = keras.layers.Input(shape = (13, ))\n",
    "hl = keras.layers.Dense(64, activation = 'relu', name= 'hidden1')(il)\n",
    "hl = keras.layers.Dense(32, activation = 'relu', name= 'hidden2')(hl)\n",
    "ol = keras.layers.Dense(3, activation = 'softmax', name= 'output')(hl)\n",
    "\n",
    "# 3. 모델 시작/끝 지정\n",
    "model = keras.models.Model(il, ol)\n",
    "\n",
    "# 4. 컴파일\n",
    "model.compile(loss = keras.losses.categorical_crossentropy,\n",
    "              metrics= ['accuracy'],\n",
    "              optimizer= 'adam')\n",
    "\n",
    "# 요약\n",
    "model.summary()"
   ]
  },
  {
   "cell_type": "code",
   "execution_count": 61,
   "metadata": {},
   "outputs": [
    {
     "name": "stdout",
     "output_type": "stream",
     "text": [
      "Epoch 1/50\n",
      "5/5 [==============================] - 1s 70ms/step - loss: 0.9508 - accuracy: 0.5278 - val_loss: 0.7353 - val_accuracy: 0.7500\n",
      "Epoch 2/50\n",
      "5/5 [==============================] - 0s 13ms/step - loss: 0.8062 - accuracy: 0.7222 - val_loss: 0.6185 - val_accuracy: 0.8750\n",
      "Epoch 3/50\n",
      "5/5 [==============================] - 0s 15ms/step - loss: 0.6801 - accuracy: 0.8819 - val_loss: 0.5135 - val_accuracy: 0.9375\n",
      "Epoch 4/50\n",
      "5/5 [==============================] - 0s 16ms/step - loss: 0.5680 - accuracy: 0.9306 - val_loss: 0.4239 - val_accuracy: 0.9375\n",
      "Epoch 5/50\n",
      "5/5 [==============================] - 0s 16ms/step - loss: 0.4703 - accuracy: 0.9583 - val_loss: 0.3471 - val_accuracy: 1.0000\n",
      "Epoch 6/50\n",
      "5/5 [==============================] - 0s 19ms/step - loss: 0.3854 - accuracy: 0.9653 - val_loss: 0.2848 - val_accuracy: 1.0000\n",
      "Epoch 7/50\n",
      "5/5 [==============================] - 0s 19ms/step - loss: 0.3163 - accuracy: 0.9722 - val_loss: 0.2332 - val_accuracy: 1.0000\n",
      "Epoch 8/50\n",
      "5/5 [==============================] - 0s 19ms/step - loss: 0.2597 - accuracy: 0.9722 - val_loss: 0.1923 - val_accuracy: 1.0000\n",
      "Epoch 9/50\n",
      "5/5 [==============================] - 0s 17ms/step - loss: 0.2141 - accuracy: 0.9722 - val_loss: 0.1601 - val_accuracy: 1.0000\n",
      "Epoch 10/50\n",
      "5/5 [==============================] - 0s 16ms/step - loss: 0.1776 - accuracy: 0.9722 - val_loss: 0.1352 - val_accuracy: 1.0000\n",
      "Epoch 11/50\n",
      "5/5 [==============================] - 0s 17ms/step - loss: 0.1489 - accuracy: 0.9861 - val_loss: 0.1168 - val_accuracy: 1.0000\n",
      "Epoch 12/50\n",
      "5/5 [==============================] - 0s 18ms/step - loss: 0.1252 - accuracy: 0.9861 - val_loss: 0.1022 - val_accuracy: 1.0000\n",
      "Epoch 13/50\n",
      "5/5 [==============================] - 0s 28ms/step - loss: 0.1065 - accuracy: 0.9861 - val_loss: 0.0910 - val_accuracy: 1.0000\n",
      "Epoch 14/50\n",
      "5/5 [==============================] - 0s 29ms/step - loss: 0.0918 - accuracy: 0.9931 - val_loss: 0.0824 - val_accuracy: 1.0000\n",
      "Epoch 15/50\n",
      "5/5 [==============================] - 0s 22ms/step - loss: 0.0803 - accuracy: 0.9931 - val_loss: 0.0755 - val_accuracy: 1.0000\n",
      "Epoch 16/50\n",
      "5/5 [==============================] - 0s 30ms/step - loss: 0.0706 - accuracy: 0.9931 - val_loss: 0.0701 - val_accuracy: 1.0000\n",
      "Epoch 17/50\n",
      "5/5 [==============================] - 0s 21ms/step - loss: 0.0621 - accuracy: 1.0000 - val_loss: 0.0662 - val_accuracy: 1.0000\n",
      "Epoch 18/50\n",
      "5/5 [==============================] - 0s 21ms/step - loss: 0.0552 - accuracy: 1.0000 - val_loss: 0.0641 - val_accuracy: 1.0000\n",
      "Epoch 19/50\n",
      "5/5 [==============================] - 0s 18ms/step - loss: 0.0498 - accuracy: 1.0000 - val_loss: 0.0623 - val_accuracy: 1.0000\n",
      "Epoch 20/50\n",
      "5/5 [==============================] - 0s 16ms/step - loss: 0.0448 - accuracy: 1.0000 - val_loss: 0.0603 - val_accuracy: 1.0000\n",
      "Epoch 21/50\n",
      "5/5 [==============================] - 0s 16ms/step - loss: 0.0406 - accuracy: 1.0000 - val_loss: 0.0585 - val_accuracy: 1.0000\n",
      "Epoch 22/50\n",
      "5/5 [==============================] - 0s 17ms/step - loss: 0.0369 - accuracy: 1.0000 - val_loss: 0.0575 - val_accuracy: 1.0000\n",
      "Epoch 23/50\n",
      "5/5 [==============================] - 0s 17ms/step - loss: 0.0337 - accuracy: 1.0000 - val_loss: 0.0558 - val_accuracy: 1.0000\n",
      "Epoch 24/50\n",
      "5/5 [==============================] - 0s 19ms/step - loss: 0.0311 - accuracy: 1.0000 - val_loss: 0.0547 - val_accuracy: 1.0000\n",
      "Epoch 25/50\n",
      "5/5 [==============================] - 0s 17ms/step - loss: 0.0285 - accuracy: 1.0000 - val_loss: 0.0547 - val_accuracy: 1.0000\n",
      "Epoch 26/50\n",
      "5/5 [==============================] - 0s 16ms/step - loss: 0.0265 - accuracy: 1.0000 - val_loss: 0.0560 - val_accuracy: 1.0000\n",
      "Epoch 27/50\n",
      "5/5 [==============================] - 0s 16ms/step - loss: 0.0244 - accuracy: 1.0000 - val_loss: 0.0557 - val_accuracy: 1.0000\n",
      "Epoch 28/50\n",
      "5/5 [==============================] - 0s 15ms/step - loss: 0.0228 - accuracy: 1.0000 - val_loss: 0.0565 - val_accuracy: 1.0000\n",
      "Epoch 29/50\n",
      "1/5 [=====>........................] - ETA: 0s - loss: 0.0200 - accuracy: 1.0000Restoring model weights from the end of the best epoch: 24.\n",
      "5/5 [==============================] - 0s 19ms/step - loss: 0.0211 - accuracy: 1.0000 - val_loss: 0.0553 - val_accuracy: 1.0000\n",
      "Epoch 29: early stopping\n"
     ]
    },
    {
     "data": {
      "text/plain": [
       "<keras.callbacks.History at 0x1786c5ba8c0>"
      ]
     },
     "execution_count": 61,
     "metadata": {},
     "output_type": "execute_result"
    }
   ],
   "source": [
    "model.fit(x_train_s, y_train,\n",
    "          epochs = 50,\n",
    "          verbose = 1,\n",
    "          callbacks = [es],\n",
    "          validation_data = (x_val_s, y_val))"
   ]
  },
  {
   "cell_type": "code",
   "execution_count": 62,
   "metadata": {},
   "outputs": [
    {
     "name": "stdout",
     "output_type": "stream",
     "text": [
      "1/1 [==============================] - 0s 52ms/step\n",
      "[0 0 0 0 0 0 0 0 0 0]\n",
      "[0. 0. 1. 0. 1. 0. 0. 0. 1. 0.]\n"
     ]
    }
   ],
   "source": [
    "y_pred = model.predict(x_test_s)\n",
    "\n",
    "print(y[:10])\n",
    "print(y_pred.round(0).reshape(-1,)[:10])"
   ]
  },
  {
   "cell_type": "code",
   "execution_count": null,
   "metadata": {},
   "outputs": [],
   "source": []
  },
  {
   "cell_type": "code",
   "execution_count": null,
   "metadata": {},
   "outputs": [],
   "source": []
  }
 ],
 "metadata": {
  "kernelspec": {
   "display_name": "ex_data",
   "language": "python",
   "name": "ex_data"
  },
  "language_info": {
   "codemirror_mode": {
    "name": "ipython",
    "version": 3
   },
   "file_extension": ".py",
   "mimetype": "text/x-python",
   "name": "python",
   "nbconvert_exporter": "python",
   "pygments_lexer": "ipython3",
   "version": "3.10.9"
  },
  "orig_nbformat": 4
 },
 "nbformat": 4,
 "nbformat_minor": 2
}
